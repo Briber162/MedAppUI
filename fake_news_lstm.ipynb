{
  "cells": [
    {
      "cell_type": "markdown",
      "metadata": {
        "id": "view-in-github",
        "colab_type": "text"
      },
      "source": [
        "<a href=\"https://colab.research.google.com/github/Briber162/MedAppUI/blob/master/fake_news_lstm.ipynb\" target=\"_parent\"><img src=\"https://colab.research.google.com/assets/colab-badge.svg\" alt=\"Open In Colab\"/></a>"
      ]
    },
    {
      "cell_type": "code",
      "execution_count": null,
      "metadata": {
        "id": "2L-eMeoWtXpo"
      },
      "outputs": [],
      "source": [
        "import nltk\n",
        "import re\n",
        "import pandas as pd\n",
        "from nltk.corpus import stopwords\n",
        "from nltk.stem import PorterStemmer\n",
        "from keras.preprocessing.sequence import pad_sequences\n",
        "from keras.preprocessing.text import one_hot\n",
        "from tensorflow.keras.layers import Dense, Embedding, LSTM\n",
        "from tensorflow.keras.models import Sequential\n",
        "import numpy as np\n",
        "from sklearn.model_selection import train_test_split"
      ]
    },
    {
      "cell_type": "code",
      "execution_count": null,
      "metadata": {
        "id": "u9D2a5zEtXpy"
      },
      "outputs": [],
      "source": [
        "\n",
        "train_data = pd.read_csv(\"train.csv\")"
      ]
    },
    {
      "cell_type": "code",
      "execution_count": null,
      "metadata": {
        "id": "eeKOqEwFtXp0"
      },
      "outputs": [],
      "source": [
        "train_data.dropna(inplace=True)\n"
      ]
    },
    {
      "cell_type": "code",
      "execution_count": null,
      "metadata": {
        "id": "BZB6vW5BtXp2"
      },
      "outputs": [],
      "source": [
        "ps = PorterStemmer()\n",
        "sentence_length = 5000\n",
        "padding_length = 1000\n",
        "dimension = 100"
      ]
    },
    {
      "cell_type": "code",
      "execution_count": null,
      "metadata": {
        "id": "96KXkvp5tXp4"
      },
      "outputs": [],
      "source": [
        "def pre_process_data(data):\n",
        "    text = data['title']\n",
        "    sentence_list = list(map(lambda x: \"\". join(ps.stem(word) for word in re.sub(\"[^A-Za-z]\", \" \", x.lower()) if word not in stopwords.words(\"english\")), text.values))\n",
        "    encoded_sentences = [one_hot(sentence, sentence_length) for sentence in sentence_list]\n",
        "    padded_sentences = pad_sequences(encoded_sentences, maxlen=padding_length, padding='pre')\n",
        "    return padded_sentences"
      ]
    },
    {
      "cell_type": "code",
      "execution_count": null,
      "metadata": {
        "id": "o-pcBUwmtXp5"
      },
      "outputs": [],
      "source": [
        "sen_list = pre_process_data(train_data)"
      ]
    },
    {
      "cell_type": "code",
      "execution_count": null,
      "metadata": {
        "id": "PIa4LN2rtXp6",
        "outputId": "2c7294e3-905a-4986-b2c7-82c310b65d63"
      },
      "outputs": [
        {
          "name": "stdout",
          "output_type": "stream",
          "text": [
            "Num GPUs Available:  1\n",
            "Device mapping:\n",
            "/job:localhost/replica:0/task:0/device:GPU:0 -> device: 0, name: NVIDIA GeForce GTX 1070, pci bus id: 0000:01:00.0, compute capability: 6.1\n",
            "\n"
          ]
        }
      ],
      "source": [
        "import tensorflow as tf\n",
        "print(\"Num GPUs Available: \", len(tf.config.list_physical_devices('GPU')))\n",
        "#sess = tf.Session(config=tf.ConfigProto(log_device_placement=True))\n",
        "sess = tf.compat.v1.Session(config=tf.compat.v1.ConfigProto(log_device_placement=True))"
      ]
    },
    {
      "cell_type": "code",
      "execution_count": null,
      "metadata": {
        "id": "A63GN6XztXp9"
      },
      "outputs": [],
      "source": [
        "model = Sequential()\n",
        "model.add(Embedding(sentence_length, dimension, input_length=padding_length))\n",
        "model.add(LSTM(500))\n",
        "model.add(Dense(1, activation='sigmoid'))\n",
        "model.compile(loss='binary_crossentropy', metrics='accuracy', optimizer='adam')"
      ]
    },
    {
      "cell_type": "code",
      "execution_count": null,
      "metadata": {
        "id": "fBKxX1SstXp_",
        "outputId": "86674bf2-0015-4f37-a920-1309fdcbbb4a"
      },
      "outputs": [
        {
          "name": "stdout",
          "output_type": "stream",
          "text": [
            "Model: \"sequential\"\n",
            "_________________________________________________________________\n",
            " Layer (type)                Output Shape              Param #   \n",
            "=================================================================\n",
            " embedding (Embedding)       (None, 1000, 100)         500000    \n",
            "                                                                 \n",
            " lstm (LSTM)                 (None, 500)               1202000   \n",
            "                                                                 \n",
            " dense (Dense)               (None, 1)                 501       \n",
            "                                                                 \n",
            "=================================================================\n",
            "Total params: 1,702,501\n",
            "Trainable params: 1,702,501\n",
            "Non-trainable params: 0\n",
            "_________________________________________________________________\n"
          ]
        }
      ],
      "source": [
        "model.summary()"
      ]
    },
    {
      "cell_type": "code",
      "execution_count": null,
      "metadata": {
        "id": "aSTs2zBYtXqA"
      },
      "outputs": [],
      "source": [
        "x_input = np.array(sen_list)\n",
        "y_input = np.array(train_data['label'].values)"
      ]
    },
    {
      "cell_type": "code",
      "execution_count": null,
      "metadata": {
        "id": "6Ui-eyGWtXqB",
        "outputId": "1c74887e-bbca-4cdf-880d-673be5faabe2"
      },
      "outputs": [
        {
          "name": "stdout",
          "output_type": "stream",
          "text": [
            "1463/1463 [==============================] - 174s 108ms/step - loss: 0.2417 - accuracy: 0.8983 - val_loss: 0.1997 - val_accuracy: 0.9188\n"
          ]
        },
        {
          "data": {
            "text/plain": [
              "<keras.callbacks.History at 0x1b97576d9c0>"
            ]
          },
          "execution_count": 15,
          "metadata": {},
          "output_type": "execute_result"
        }
      ],
      "source": [
        "x_train, x_test, y_train, y_test = train_test_split(x_input, y_input, test_size=0.2, random_state=1)\n",
        "model.fit(x_train, y_train, validation_data=(x_test, y_test), epochs=1, batch_size=10)"
      ]
    },
    {
      "cell_type": "code",
      "execution_count": null,
      "metadata": {
        "id": "tsG-L_5NtXqC"
      },
      "outputs": [],
      "source": [
        "test_data = pd.read_csv(\"train.csv\")\n",
        "#drop last 100 rows from test_data\n",
        "test_data = test_data.drop(test_data.index[100:])\n",
        "test_data.fillna(inplace=True, method='pad')"
      ]
    },
    {
      "cell_type": "code",
      "execution_count": null,
      "metadata": {
        "id": "VV2dRVndtXqD"
      },
      "outputs": [],
      "source": [
        "test_sentence_list = pre_process_data(test_data)\n",
        "test_input = np.array(test_sentence_list)\n",
        "test_output = model.predict(test_input)"
      ]
    },
    {
      "cell_type": "code",
      "execution_count": null,
      "metadata": {
        "id": "ZlCZBCkjtXqE",
        "outputId": "089be39c-1fa0-4e02-c592-8a959fed319c"
      },
      "outputs": [
        {
          "name": "stdout",
          "output_type": "stream",
          "text": [
            "[[8.46832395e-01]\n",
            " [1.08811795e-03]\n",
            " [9.45790470e-01]\n",
            " [9.52041149e-01]\n",
            " [6.79750502e-01]\n",
            " [9.27105611e-06]\n",
            " [7.69384205e-01]\n",
            " [5.33690560e-04]\n",
            " [6.02597793e-05]\n",
            " [5.02163675e-05]\n",
            " [1.83746014e-02]\n",
            " [6.06403887e-01]\n",
            " [9.42068219e-01]\n",
            " [8.57354999e-01]\n",
            " [9.24624920e-01]\n",
            " [1.15157291e-03]\n",
            " [1.30058601e-04]\n",
            " [9.64716554e-01]\n",
            " [9.79840875e-01]\n",
            " [5.61037916e-04]\n",
            " [6.02863133e-01]\n",
            " [8.38382065e-01]\n",
            " [4.36508300e-04]\n",
            " [8.70480776e-01]\n",
            " [1.59181247e-03]\n",
            " [9.06828523e-01]\n",
            " [4.15521208e-06]\n",
            " [9.48797822e-01]\n",
            " [8.39914719e-05]\n",
            " [3.52835259e-03]\n",
            " [8.50486613e-05]\n",
            " [9.23268199e-01]\n",
            " [1.28578016e-04]\n",
            " [8.94596917e-04]\n",
            " [1.91844272e-04]\n",
            " [5.99638770e-05]\n",
            " [9.52185750e-01]\n",
            " [9.63452101e-01]\n",
            " [1.35075548e-04]\n",
            " [6.64649648e-04]\n",
            " [8.51383782e-04]\n",
            " [9.68668938e-01]\n",
            " [3.93202342e-03]\n",
            " [9.53582525e-01]\n",
            " [3.46049492e-04]\n",
            " [6.96874165e-04]\n",
            " [9.57347572e-01]\n",
            " [9.76482630e-01]\n",
            " [7.91447601e-05]\n",
            " [1.46234961e-04]\n",
            " [9.56421554e-01]\n",
            " [9.35208380e-01]\n",
            " [1.13243135e-04]\n",
            " [1.13243135e-04]\n",
            " [9.72506285e-01]\n",
            " [9.71268058e-01]\n",
            " [9.61982012e-01]\n",
            " [9.33957875e-01]\n",
            " [9.48404670e-01]\n",
            " [5.57596504e-04]\n",
            " [7.62246316e-04]\n",
            " [9.63654220e-01]\n",
            " [1.20760722e-03]\n",
            " [8.94808114e-01]\n",
            " [3.53949843e-03]\n",
            " [5.18749833e-01]\n",
            " [4.50589657e-01]\n",
            " [9.81730819e-01]\n",
            " [1.54966104e-03]\n",
            " [7.38346815e-01]\n",
            " [8.82572711e-01]\n",
            " [9.41611111e-01]\n",
            " [9.33949428e-04]\n",
            " [3.38621408e-04]\n",
            " [8.39864253e-04]\n",
            " [1.16659014e-03]\n",
            " [8.30399275e-01]\n",
            " [6.21779561e-01]\n",
            " [7.13901070e-04]\n",
            " [1.96192952e-04]\n",
            " [9.96189119e-05]\n",
            " [1.24316193e-01]\n",
            " [9.85530853e-01]\n",
            " [4.98530775e-01]\n",
            " [6.69035144e-05]\n",
            " [9.56601871e-04]\n",
            " [9.66578066e-01]\n",
            " [9.90574015e-04]\n",
            " [8.28749776e-01]\n",
            " [3.10286414e-04]\n",
            " [4.52417618e-04]\n",
            " [8.47644091e-01]\n",
            " [8.54122511e-04]\n",
            " [8.53359699e-01]\n",
            " [5.28746432e-06]\n",
            " [7.63481736e-01]\n",
            " [9.57917809e-01]\n",
            " [3.45448661e-03]\n",
            " [2.49187779e-05]\n",
            " [4.04428894e-04]]\n"
          ]
        }
      ],
      "source": [
        "print(test_output)"
      ]
    },
    {
      "cell_type": "code",
      "execution_count": null,
      "metadata": {
        "id": "4He90YqXtXqF"
      },
      "outputs": [],
      "source": [
        "submission_df = pd.DataFrame({'id': test_data['id'], 'label': (test_output.flatten().reshape(-1,) > 0.5).astype('int')})"
      ]
    },
    {
      "cell_type": "code",
      "execution_count": null,
      "metadata": {
        "id": "g_67Xqu9tXqF"
      },
      "outputs": [],
      "source": [
        "submission_df.to_csv(\"submission.csv\", index=False)"
      ]
    },
    {
      "cell_type": "code",
      "execution_count": null,
      "metadata": {
        "id": "R75idYU6tXqG",
        "outputId": "834a54ba-adf2-4530-c4aa-6a10136f0932"
      },
      "outputs": [
        {
          "data": {
            "text/html": [
              "<div>\n",
              "<style scoped>\n",
              "    .dataframe tbody tr th:only-of-type {\n",
              "        vertical-align: middle;\n",
              "    }\n",
              "\n",
              "    .dataframe tbody tr th {\n",
              "        vertical-align: top;\n",
              "    }\n",
              "\n",
              "    .dataframe thead th {\n",
              "        text-align: right;\n",
              "    }\n",
              "</style>\n",
              "<table border=\"1\" class=\"dataframe\">\n",
              "  <thead>\n",
              "    <tr style=\"text-align: right;\">\n",
              "      <th></th>\n",
              "      <th>id</th>\n",
              "      <th>label</th>\n",
              "    </tr>\n",
              "  </thead>\n",
              "  <tbody>\n",
              "    <tr>\n",
              "      <th>0</th>\n",
              "      <td>0</td>\n",
              "      <td>1</td>\n",
              "    </tr>\n",
              "    <tr>\n",
              "      <th>1</th>\n",
              "      <td>1</td>\n",
              "      <td>0</td>\n",
              "    </tr>\n",
              "    <tr>\n",
              "      <th>2</th>\n",
              "      <td>2</td>\n",
              "      <td>1</td>\n",
              "    </tr>\n",
              "    <tr>\n",
              "      <th>3</th>\n",
              "      <td>3</td>\n",
              "      <td>1</td>\n",
              "    </tr>\n",
              "    <tr>\n",
              "      <th>4</th>\n",
              "      <td>4</td>\n",
              "      <td>1</td>\n",
              "    </tr>\n",
              "    <tr>\n",
              "      <th>...</th>\n",
              "      <td>...</td>\n",
              "      <td>...</td>\n",
              "    </tr>\n",
              "    <tr>\n",
              "      <th>95</th>\n",
              "      <td>95</td>\n",
              "      <td>1</td>\n",
              "    </tr>\n",
              "    <tr>\n",
              "      <th>96</th>\n",
              "      <td>96</td>\n",
              "      <td>1</td>\n",
              "    </tr>\n",
              "    <tr>\n",
              "      <th>97</th>\n",
              "      <td>97</td>\n",
              "      <td>0</td>\n",
              "    </tr>\n",
              "    <tr>\n",
              "      <th>98</th>\n",
              "      <td>98</td>\n",
              "      <td>0</td>\n",
              "    </tr>\n",
              "    <tr>\n",
              "      <th>99</th>\n",
              "      <td>99</td>\n",
              "      <td>0</td>\n",
              "    </tr>\n",
              "  </tbody>\n",
              "</table>\n",
              "<p>100 rows × 2 columns</p>\n",
              "</div>"
            ],
            "text/plain": [
              "    id  label\n",
              "0    0      1\n",
              "1    1      0\n",
              "2    2      1\n",
              "3    3      1\n",
              "4    4      1\n",
              "..  ..    ...\n",
              "95  95      1\n",
              "96  96      1\n",
              "97  97      0\n",
              "98  98      0\n",
              "99  99      0\n",
              "\n",
              "[100 rows x 2 columns]"
            ]
          },
          "execution_count": 28,
          "metadata": {},
          "output_type": "execute_result"
        }
      ],
      "source": [
        "submission_df"
      ]
    },
    {
      "cell_type": "code",
      "execution_count": null,
      "metadata": {
        "id": "nUUiC51TtXqG",
        "outputId": "d57d2c7f-8a3a-43d1-8938-d79a3d7e02cf"
      },
      "outputs": [
        {
          "name": "stderr",
          "output_type": "stream",
          "text": [
            "WARNING:absl:Found untraced functions such as lstm_cell_layer_call_fn, lstm_cell_layer_call_and_return_conditional_losses while saving (showing 2 of 2). These functions will not be directly callable after loading.\n"
          ]
        },
        {
          "name": "stdout",
          "output_type": "stream",
          "text": [
            "INFO:tensorflow:Assets written to: ram://2b5959db-d259-40f4-963c-4dea153068d5/assets\n"
          ]
        },
        {
          "name": "stderr",
          "output_type": "stream",
          "text": [
            "INFO:tensorflow:Assets written to: ram://2b5959db-d259-40f4-963c-4dea153068d5/assets\n",
            "WARNING:absl:<keras.layers.recurrent.LSTMCell object at 0x000001B920974D00> has the same name 'LSTMCell' as a built-in Keras object. Consider renaming <class 'keras.layers.recurrent.LSTMCell'> to avoid naming conflicts when loading with `tf.keras.models.load_model`. If renaming is not possible, pass the object in the `custom_objects` parameter of the load function.\n"
          ]
        }
      ],
      "source": [
        "import pickle\n",
        "\n",
        "#save pickle\n",
        "pickle.dump(model, open('trainedModel/mmodel.sav', 'wb'))"
      ]
    },
    {
      "cell_type": "code",
      "execution_count": null,
      "metadata": {
        "id": "1RyxcCgjtXqH"
      },
      "outputs": [],
      "source": [
        ""
      ]
    }
  ],
  "metadata": {
    "colab": {
      "collapsed_sections": [],
      "name": "fake_news-lstm.ipynb",
      "provenance": [],
      "include_colab_link": true
    },
    "kernelspec": {
      "display_name": "Python 3",
      "name": "python3"
    },
    "language_info": {
      "codemirror_mode": {
        "name": "ipython",
        "version": 3
      },
      "file_extension": ".py",
      "mimetype": "text/x-python",
      "name": "python",
      "nbconvert_exporter": "python",
      "pygments_lexer": "ipython3",
      "version": "3.10.3"
    }
  },
  "nbformat": 4,
  "nbformat_minor": 0
}